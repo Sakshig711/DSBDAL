{
 "cells": [
  {
   "cell_type": "code",
   "execution_count": 1,
   "id": "0b4f99d7",
   "metadata": {},
   "outputs": [
    {
     "name": "stdout",
     "output_type": "stream",
     "text": [
      "Requirement already satisfied: selenium in c:\\users\\saksh\\anaconda3\\lib\\site-packages (4.31.0)\n",
      "Requirement already satisfied: pandas in c:\\users\\saksh\\anaconda3\\lib\\site-packages (1.4.4)\n",
      "Requirement already satisfied: urllib3[socks]<3,>=1.26 in c:\\users\\saksh\\anaconda3\\lib\\site-packages (from selenium) (1.26.11)\n",
      "Requirement already satisfied: websocket-client~=1.8 in c:\\users\\saksh\\anaconda3\\lib\\site-packages (from selenium) (1.8.0)\n",
      "Requirement already satisfied: certifi>=2021.10.8 in c:\\users\\saksh\\anaconda3\\lib\\site-packages (from selenium) (2022.9.14)\n",
      "Requirement already satisfied: trio~=0.17 in c:\\users\\saksh\\anaconda3\\lib\\site-packages (from selenium) (0.30.0)\n",
      "Requirement already satisfied: trio-websocket~=0.9 in c:\\users\\saksh\\anaconda3\\lib\\site-packages (from selenium) (0.12.2)\n",
      "Requirement already satisfied: typing_extensions~=4.9 in c:\\users\\saksh\\anaconda3\\lib\\site-packages (from selenium) (4.13.2)\n",
      "Requirement already satisfied: pytz>=2020.1 in c:\\users\\saksh\\anaconda3\\lib\\site-packages (from pandas) (2022.1)\n",
      "Requirement already satisfied: numpy>=1.18.5 in c:\\users\\saksh\\anaconda3\\lib\\site-packages (from pandas) (1.21.5)\n",
      "Requirement already satisfied: python-dateutil>=2.8.1 in c:\\users\\saksh\\anaconda3\\lib\\site-packages (from pandas) (2.8.2)\n",
      "Requirement already satisfied: six>=1.5 in c:\\users\\saksh\\anaconda3\\lib\\site-packages (from python-dateutil>=2.8.1->pandas) (1.16.0)\n",
      "Requirement already satisfied: sortedcontainers in c:\\users\\saksh\\anaconda3\\lib\\site-packages (from trio~=0.17->selenium) (2.4.0)\n",
      "Requirement already satisfied: cffi>=1.14 in c:\\users\\saksh\\anaconda3\\lib\\site-packages (from trio~=0.17->selenium) (1.15.1)\n",
      "Requirement already satisfied: sniffio>=1.3.0 in c:\\users\\saksh\\anaconda3\\lib\\site-packages (from trio~=0.17->selenium) (1.3.1)\n",
      "Requirement already satisfied: outcome in c:\\users\\saksh\\anaconda3\\lib\\site-packages (from trio~=0.17->selenium) (1.3.0.post0)\n",
      "Requirement already satisfied: idna in c:\\users\\saksh\\anaconda3\\lib\\site-packages (from trio~=0.17->selenium) (3.3)\n",
      "Requirement already satisfied: exceptiongroup in c:\\users\\saksh\\anaconda3\\lib\\site-packages (from trio~=0.17->selenium) (1.2.2)\n",
      "Requirement already satisfied: attrs>=23.2.0 in c:\\users\\saksh\\anaconda3\\lib\\site-packages (from trio~=0.17->selenium) (25.3.0)\n",
      "Requirement already satisfied: wsproto>=0.14 in c:\\users\\saksh\\anaconda3\\lib\\site-packages (from trio-websocket~=0.9->selenium) (1.2.0)\n",
      "Requirement already satisfied: PySocks!=1.5.7,<2.0,>=1.5.6 in c:\\users\\saksh\\anaconda3\\lib\\site-packages (from urllib3[socks]<3,>=1.26->selenium) (1.7.1)\n",
      "Requirement already satisfied: pycparser in c:\\users\\saksh\\anaconda3\\lib\\site-packages (from cffi>=1.14->trio~=0.17->selenium) (2.21)\n",
      "Requirement already satisfied: h11<1,>=0.9.0 in c:\\users\\saksh\\anaconda3\\lib\\site-packages (from wsproto>=0.14->trio-websocket~=0.9->selenium) (0.16.0)\n",
      "Note: you may need to restart the kernel to use updated packages.\n"
     ]
    }
   ],
   "source": [
    "pip install selenium pandas"
   ]
  },
  {
   "cell_type": "code",
   "execution_count": 2,
   "id": "d26f31ff",
   "metadata": {},
   "outputs": [
    {
     "ename": "TypeError",
     "evalue": "__init__() got an unexpected keyword argument 'executable_path'",
     "output_type": "error",
     "traceback": [
      "\u001b[1;31m---------------------------------------------------------------------------\u001b[0m",
      "\u001b[1;31mTypeError\u001b[0m                                 Traceback (most recent call last)",
      "\u001b[1;32m~\\AppData\\Local\\Temp\\ipykernel_23148\\101593960.py\u001b[0m in \u001b[0;36m<module>\u001b[1;34m\u001b[0m\n\u001b[0;32m      5\u001b[0m \u001b[1;33m\u001b[0m\u001b[0m\n\u001b[0;32m      6\u001b[0m \u001b[1;31m# Path to ChromeDriver\u001b[0m\u001b[1;33m\u001b[0m\u001b[1;33m\u001b[0m\u001b[0m\n\u001b[1;32m----> 7\u001b[1;33m \u001b[0mdriver\u001b[0m \u001b[1;33m=\u001b[0m \u001b[0mwebdriver\u001b[0m\u001b[1;33m.\u001b[0m\u001b[0mChrome\u001b[0m\u001b[1;33m(\u001b[0m\u001b[0mexecutable_path\u001b[0m\u001b[1;33m=\u001b[0m\u001b[1;34m\"path_to_chromedriver\"\u001b[0m\u001b[1;33m)\u001b[0m\u001b[1;33m\u001b[0m\u001b[1;33m\u001b[0m\u001b[0m\n\u001b[0m\u001b[0;32m      8\u001b[0m \u001b[1;33m\u001b[0m\u001b[0m\n\u001b[0;32m      9\u001b[0m \u001b[1;31m# Open Myntra product page (replace with any product that has reviews)\u001b[0m\u001b[1;33m\u001b[0m\u001b[1;33m\u001b[0m\u001b[0m\n",
      "\u001b[1;31mTypeError\u001b[0m: __init__() got an unexpected keyword argument 'executable_path'"
     ]
    }
   ],
   "source": [
    "from selenium import webdriver\n",
    "from selenium.webdriver.common.by import By\n",
    "import time\n",
    "import pandas as pd\n",
    "\n",
    "# Path to ChromeDriver\n",
    "driver = webdriver.Chrome(executable_path=\"path_to_chromedriver\")\n",
    "\n",
    "# Open Myntra product page (replace with any product that has reviews)\n",
    "url = \"https://www.myntra.com/some-product-url\"\n",
    "driver.get(url)\n",
    "\n",
    "# Wait for page to load\n",
    "time.sleep(5)\n",
    "\n",
    "# Click \"View All Reviews\" if needed\n",
    "try:\n",
    "    view_all = driver.find_element(By.XPATH, '//span[text()=\"View all\"]')\n",
    "    view_all.click()\n",
    "    time.sleep(3)\n",
    "except:\n",
    "    pass  # If no \"View all\", skip\n",
    "\n",
    "# Scroll to load more reviews (can repeat as needed)\n",
    "driver.execute_script(\"window.scrollTo(0, document.body.scrollHeight);\")\n",
    "time.sleep(3)\n",
    "\n",
    "# Containers for scraped data\n",
    "customer_names = []\n",
    "ratings = []\n",
    "comments = []\n",
    "tags = []\n",
    "\n",
    "# Extract reviews (adjust XPATH based on actual structure)\n",
    "review_blocks = driver.find_elements(By.CLASS_NAME, \"user-review\")  # adjust if needed\n",
    "\n",
    "for block in review_blocks:\n",
    "    try:\n",
    "        customer = block.find_element(By.CLASS_NAME, \"user-name\").text\n",
    "    except:\n",
    "        customer = \"NA\"\n",
    "        \n",
    "    try:\n",
    "        rating = block.find_element(By.CLASS_NAME, \"user-rating\").text\n",
    "    except:\n",
    "        rating = \"NA\"\n",
    "\n",
    "    try:\n",
    "        comment = block.find_element(By.CLASS_NAME, \"review-comment\").text\n",
    "    except:\n",
    "        comment = \"NA\"\n",
    "        \n",
    "    try:\n",
    "        tag = block.find_element(By.CLASS_NAME, \"tag\").text\n",
    "    except:\n",
    "        tag = \"NA\"\n",
    "        \n",
    "    customer_names.append(customer)\n",
    "    ratings.append(rating)\n",
    "    comments.append(comment)\n",
    "    tags.append(tag)\n",
    "\n",
    "# Store in DataFrame\n",
    "df = pd.DataFrame({\n",
    "    \"Customer Name\": customer_names,\n",
    "    \"Rating\": ratings,\n",
    "    \"Comment\": comments,\n",
    "    \"Comment Tag\": tags\n",
    "})\n",
    "\n",
    "# Show output\n",
    "print(df)\n",
    "\n",
    "# Save to CSV\n",
    "df.to_csv(\"myntra_reviews.csv\", index=False)\n",
    "\n",
    "# Close browser\n",
    "driver.quit()\n"
   ]
  },
  {
   "cell_type": "code",
   "execution_count": null,
   "id": "48248b8a",
   "metadata": {},
   "outputs": [],
   "source": []
  }
 ],
 "metadata": {
  "kernelspec": {
   "display_name": "Python 3 (ipykernel)",
   "language": "python",
   "name": "python3"
  },
  "language_info": {
   "codemirror_mode": {
    "name": "ipython",
    "version": 3
   },
   "file_extension": ".py",
   "mimetype": "text/x-python",
   "name": "python",
   "nbconvert_exporter": "python",
   "pygments_lexer": "ipython3",
   "version": "3.9.13"
  }
 },
 "nbformat": 4,
 "nbformat_minor": 5
}
