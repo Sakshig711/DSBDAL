{
 "cells": [
  {
   "cell_type": "code",
   "execution_count": 24,
   "id": "88a16344",
   "metadata": {},
   "outputs": [],
   "source": [
    "import pandas as pd\n",
    "\n",
    "# Load the dataset\n",
    "df = pd.read_csv(\"Iris.csv\")\n",
    "df.columns = ['SepalLengthCm', 'SepalWidthCm', 'PetalLengthCm', 'PetalWidthCm', 'Species']"
   ]
  },
  {
   "cell_type": "code",
   "execution_count": 25,
   "id": "c418997c",
   "metadata": {},
   "outputs": [],
   "source": [
    "setosa = df[df['Species'] == 'Iris-setosa']\n",
    "versicolor = df[df['Species'] == 'Iris-versicolor']"
   ]
  },
  {
   "cell_type": "code",
   "execution_count": 26,
   "id": "6dc9296f",
   "metadata": {},
   "outputs": [
    {
     "name": "stdout",
     "output_type": "stream",
     "text": [
      "setosa subset: (49, 5)\n",
      "versicolor subset: (50, 5)\n"
     ]
    }
   ],
   "source": [
    "print(\"Photo subset:\", setosa.shape)\n",
    "print(\"versicolor subset:\", versicolor.shape)"
   ]
  },
  {
   "cell_type": "code",
   "execution_count": null,
   "id": "289e3464",
   "metadata": {},
   "outputs": [],
   "source": [
    "merged_df = pd.concat([setosa, versicolor], ignore_index=True)\n"
   ]
  },
  {
   "cell_type": "code",
   "execution_count": 27,
   "id": "c1ba5403",
   "metadata": {},
   "outputs": [
    {
     "name": "stdout",
     "output_type": "stream",
     "text": [
      "Merged subset: (99, 5)\n"
     ]
    }
   ],
   "source": [
    "print(\"Merged subset:\",  merged_df.shape)"
   ]
  },
  {
   "cell_type": "code",
   "execution_count": 29,
   "id": "4fe068ec",
   "metadata": {},
   "outputs": [
    {
     "name": "stdout",
     "output_type": "stream",
     "text": [
      "\n",
      "Top 6 by likes:\n",
      "     PetalLengthCm      Species\n",
      "21            1.0  Iris-setosa\n",
      "12            1.1  Iris-setosa\n",
      "34            1.2  Iris-setosa\n",
      "13            1.2  Iris-setosa\n",
      "37            1.3  Iris-setosa\n",
      "1             1.3  Iris-setosa\n"
     ]
    }
   ],
   "source": [
    "sorted_df = df.sort_values(by='PetalLengthCm')\n",
    "print(\"\\nTop 6 by likes:\\n\", sorted_df[['PetalLengthCm','Species']].head(6))"
   ]
  },
  {
   "cell_type": "code",
   "execution_count": 39,
   "id": "d562516b",
   "metadata": {},
   "outputs": [
    {
     "name": "stdout",
     "output_type": "stream",
     "text": [
      "\n",
      "First 5 rows transposed:\n",
      "                        0            1            2            3    \\\n",
      "SepalLengthCm          4.9          4.7          4.6          5.0   \n",
      "SepalWidthCm           3.0          3.2          3.1          3.6   \n",
      "PetalLengthCm          1.4          1.3          1.5          1.4   \n",
      "PetalWidthCm           0.2          0.2          0.2          0.2   \n",
      "Species        Iris-setosa  Iris-setosa  Iris-setosa  Iris-setosa   \n",
      "\n",
      "                       4            5            6            7    \\\n",
      "SepalLengthCm          5.4          4.6          5.0          4.4   \n",
      "SepalWidthCm           3.9          3.4          3.4          2.9   \n",
      "PetalLengthCm          1.7          1.4          1.5          1.4   \n",
      "PetalWidthCm           0.4          0.3          0.2          0.2   \n",
      "Species        Iris-setosa  Iris-setosa  Iris-setosa  Iris-setosa   \n",
      "\n",
      "                       8            9    ...             139             140  \\\n",
      "SepalLengthCm          4.9          5.4  ...             6.7             6.9   \n",
      "SepalWidthCm           3.1          3.7  ...             3.1             3.1   \n",
      "PetalLengthCm          1.5          1.5  ...             5.6             5.1   \n",
      "PetalWidthCm           0.1          0.2  ...             2.4             2.3   \n",
      "Species        Iris-setosa  Iris-setosa  ...  Iris-virginica  Iris-virginica   \n",
      "\n",
      "                          141             142             143             144  \\\n",
      "SepalLengthCm             5.8             6.8             6.7             6.7   \n",
      "SepalWidthCm              2.7             3.2             3.3             3.0   \n",
      "PetalLengthCm             5.1             5.9             5.7             5.2   \n",
      "PetalWidthCm              1.9             2.3             2.5             2.3   \n",
      "Species        Iris-virginica  Iris-virginica  Iris-virginica  Iris-virginica   \n",
      "\n",
      "                          145             146             147             148  \n",
      "SepalLengthCm             6.3             6.5             6.2             5.9  \n",
      "SepalWidthCm              2.5             3.0             3.4             3.0  \n",
      "PetalLengthCm             5.0             5.2             5.4             5.1  \n",
      "PetalWidthCm              1.9             2.0             2.3             1.8  \n",
      "Species        Iris-virginica  Iris-virginica  Iris-virginica  Iris-virginica  \n",
      "\n",
      "[5 rows x 149 columns]\n"
     ]
    }
   ],
   "source": [
    "transposed_df = df.T\n",
    "print(\"\\nFirst 5 rows transposed:\\n\", transposed_df)"
   ]
  },
  {
   "cell_type": "code",
   "execution_count": 33,
   "id": "ddc8c83a",
   "metadata": {},
   "outputs": [
    {
     "name": "stdout",
     "output_type": "stream",
     "text": [
      "\n",
      "Melted sample:\n",
      "    PetalLengthCm      Species       variable  value\n",
      "0            1.4  Iris-setosa  SepalLengthCm    4.9\n",
      "1            1.3  Iris-setosa  SepalLengthCm    4.7\n",
      "2            1.5  Iris-setosa  SepalLengthCm    4.6\n",
      "3            1.4  Iris-setosa  SepalLengthCm    5.0\n",
      "4            1.7  Iris-setosa  SepalLengthCm    5.4\n"
     ]
    }
   ],
   "source": [
    "df_melted = pd.melt(df, id_vars=['PetalLengthCm','Species'])\n",
    "print(\"\\nMelted sample:\\n\", df_melted.head())"
   ]
  },
  {
   "cell_type": "code",
   "execution_count": 35,
   "id": "2eb87bb2",
   "metadata": {},
   "outputs": [
    {
     "data": {
      "text/html": [
       "<div>\n",
       "<style scoped>\n",
       "    .dataframe tbody tr th:only-of-type {\n",
       "        vertical-align: middle;\n",
       "    }\n",
       "\n",
       "    .dataframe tbody tr th {\n",
       "        vertical-align: top;\n",
       "    }\n",
       "\n",
       "    .dataframe thead th {\n",
       "        text-align: right;\n",
       "    }\n",
       "</style>\n",
       "<table border=\"1\" class=\"dataframe\">\n",
       "  <thead>\n",
       "    <tr style=\"text-align: right;\">\n",
       "      <th>Measurement</th>\n",
       "      <th>Species</th>\n",
       "      <th>PetalLengthCm</th>\n",
       "      <th>PetalWidthCm</th>\n",
       "      <th>SepalLengthCm</th>\n",
       "      <th>SepalWidthCm</th>\n",
       "    </tr>\n",
       "  </thead>\n",
       "  <tbody>\n",
       "    <tr>\n",
       "      <th>0</th>\n",
       "      <td>Iris-setosa</td>\n",
       "      <td>1.465306</td>\n",
       "      <td>0.244898</td>\n",
       "      <td>5.004082</td>\n",
       "      <td>3.416327</td>\n",
       "    </tr>\n",
       "    <tr>\n",
       "      <th>1</th>\n",
       "      <td>Iris-versicolor</td>\n",
       "      <td>4.260000</td>\n",
       "      <td>1.326000</td>\n",
       "      <td>5.936000</td>\n",
       "      <td>2.770000</td>\n",
       "    </tr>\n",
       "    <tr>\n",
       "      <th>2</th>\n",
       "      <td>Iris-virginica</td>\n",
       "      <td>5.552000</td>\n",
       "      <td>2.026000</td>\n",
       "      <td>6.588000</td>\n",
       "      <td>2.974000</td>\n",
       "    </tr>\n",
       "  </tbody>\n",
       "</table>\n",
       "</div>"
      ],
      "text/plain": [
       "Measurement          Species  PetalLengthCm  PetalWidthCm  SepalLengthCm  \\\n",
       "0                Iris-setosa       1.465306      0.244898       5.004082   \n",
       "1            Iris-versicolor       4.260000      1.326000       5.936000   \n",
       "2             Iris-virginica       5.552000      2.026000       6.588000   \n",
       "\n",
       "Measurement  SepalWidthCm  \n",
       "0                3.416327  \n",
       "1                2.770000  \n",
       "2                2.974000  "
      ]
     },
     "execution_count": 35,
     "metadata": {},
     "output_type": "execute_result"
    }
   ],
   "source": [
    "wide_df = melted_df.pivot_table(index=['Species'], \n",
    "                                columns='Measurement', \n",
    "                                values='Value',\n",
    "                                aggfunc='mean').reset_index()\n",
    "\n"
   ]
  },
  {
   "cell_type": "code",
   "execution_count": null,
   "id": "c2613c49",
   "metadata": {},
   "outputs": [],
   "source": []
  }
 ],
 "metadata": {
  "kernelspec": {
   "display_name": "Python 3 (ipykernel)",
   "language": "python",
   "name": "python3"
  },
  "language_info": {
   "codemirror_mode": {
    "name": "ipython",
    "version": 3
   },
   "file_extension": ".py",
   "mimetype": "text/x-python",
   "name": "python",
   "nbconvert_exporter": "python",
   "pygments_lexer": "ipython3",
   "version": "3.9.13"
  }
 },
 "nbformat": 4,
 "nbformat_minor": 5
}
