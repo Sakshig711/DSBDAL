{
 "cells": [
  {
   "cell_type": "code",
   "execution_count": 7,
   "id": "dd257768",
   "metadata": {},
   "outputs": [
    {
     "data": {
      "text/html": [
       "<div>\n",
       "<style scoped>\n",
       "    .dataframe tbody tr th:only-of-type {\n",
       "        vertical-align: middle;\n",
       "    }\n",
       "\n",
       "    .dataframe tbody tr th {\n",
       "        vertical-align: top;\n",
       "    }\n",
       "\n",
       "    .dataframe thead th {\n",
       "        text-align: right;\n",
       "    }\n",
       "</style>\n",
       "<table border=\"1\" class=\"dataframe\">\n",
       "  <thead>\n",
       "    <tr style=\"text-align: right;\">\n",
       "      <th></th>\n",
       "      <th>Customer Name</th>\n",
       "      <th>Rating</th>\n",
       "      <th>Review Title</th>\n",
       "      <th>Comment</th>\n",
       "    </tr>\n",
       "  </thead>\n",
       "  <tbody>\n",
       "  </tbody>\n",
       "</table>\n",
       "</div>"
      ],
      "text/plain": [
       "Empty DataFrame\n",
       "Columns: [Customer Name, Rating, Review Title, Comment]\n",
       "Index: []"
      ]
     },
     "execution_count": 7,
     "metadata": {},
     "output_type": "execute_result"
    }
   ],
   "source": [
    "import requests\n",
    "from bs4 import BeautifulSoup\n",
    "import pandas as pd\n",
    "\n",
    "# Set the product review page URL (you can change this!)\n",
    "url = \"https://www.amazon.in/product-reviews/B09G9BL5CP\"  # Example: iPhone 13\n",
    "\n",
    "# Set headers to pretend you're a browser\n",
    "headers = {\n",
    "    'User-Agent': 'Mozilla/5.0 (Windows NT 10.0; Win64; x64)'\n",
    "}\n",
    "\n",
    "# Send request to Amazon\n",
    "response = requests.get(url, headers=headers)\n",
    "soup = BeautifulSoup(response.content, 'html.parser')\n",
    "\n",
    "# Find all review blocks\n",
    "reviews = soup.select(\"div[data-hook='review']\")\n",
    "\n",
    "# Create empty lists\n",
    "customer_names = []\n",
    "ratings = []\n",
    "titles = []\n",
    "comments = []\n",
    "\n",
    "# Extract info from each review\n",
    "for review in reviews:\n",
    "    name = review.select_one(\"span.a-profile-name\")\n",
    "    rating = review.select_one(\"i[data-hook='review-star-rating']\")\n",
    "    title = review.select_one(\"a[data-hook='review-title']\")\n",
    "    body = review.select_one(\"span[data-hook='review-body']\")\n",
    "\n",
    "    customer_names.append(name.text.strip() if name else \"N/A\")\n",
    "    ratings.append(rating.text.strip() if rating else \"N/A\")\n",
    "    titles.append(title.text.strip() if title else \"N/A\")\n",
    "    comments.append(body.text.strip() if body else \"N/A\")\n",
    "\n",
    "# Create DataFrame\n",
    "df = pd.DataFrame({\n",
    "    \"Customer Name\": customer_names,\n",
    "    \"Rating\": ratings,\n",
    "    \"Review Title\": titles,\n",
    "    \"Comment\": comments\n",
    "})\n",
    "\n",
    "# Show first few results\n",
    "df.head()\n"
   ]
  },
  {
   "cell_type": "code",
   "execution_count": 8,
   "id": "c9186fe5",
   "metadata": {},
   "outputs": [
    {
     "name": "stdout",
     "output_type": "stream",
     "text": [
      "✅ Reviews saved to amazon_reviews.csv\n"
     ]
    }
   ],
   "source": [
    "df.to_csv(\"amazon_reviews.csv\", index=False)\n",
    "print(\"✅ Reviews saved to amazon_reviews.csv\")"
   ]
  },
  {
   "cell_type": "code",
   "execution_count": null,
   "id": "287468ec",
   "metadata": {},
   "outputs": [],
   "source": []
  }
 ],
 "metadata": {
  "kernelspec": {
   "display_name": "Python 3 (ipykernel)",
   "language": "python",
   "name": "python3"
  },
  "language_info": {
   "codemirror_mode": {
    "name": "ipython",
    "version": 3
   },
   "file_extension": ".py",
   "mimetype": "text/x-python",
   "name": "python",
   "nbconvert_exporter": "python",
   "pygments_lexer": "ipython3",
   "version": "3.9.13"
  }
 },
 "nbformat": 4,
 "nbformat_minor": 5
}
