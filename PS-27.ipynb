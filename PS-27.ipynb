{
 "cells": [
  {
   "cell_type": "code",
   "execution_count": 1,
   "id": "d8cd4ec7",
   "metadata": {},
   "outputs": [
    {
     "name": "stdout",
     "output_type": "stream",
     "text": [
      "Enter the Amazon Product ID (e.g., B07DJCVTBH): h6hebx8\n",
      "Scraping Page 1...\n",
      "Scraping Page 2...\n",
      "Scraping Page 3...\n",
      "✅ Scraping completed. File saved as h6hebx8_amazon_reviews.csv\n"
     ]
    }
   ],
   "source": [
    "import requests\n",
    "from bs4 import BeautifulSoup\n",
    "import pandas as pd\n",
    "import time\n",
    "\n",
    "# 1. Set up headers to avoid blocking\n",
    "headers = {\n",
    "    'User-Agent': 'Mozilla/5.0 (Windows NT 10.0; Win64; x64)'\n",
    "}\n",
    "\n",
    "# 2. Ask user for Product ID (Example: B07DJCVTBH)\n",
    "product_id = input(\"Enter the Amazon Product ID (e.g., B07DJCVTBH): \")\n",
    "\n",
    "# 3. Lists to store scraped data\n",
    "names = []\n",
    "ratings = []\n",
    "titles = []\n",
    "bodies = []\n",
    "\n",
    "# 4. Loop through pages\n",
    "for page in range(1, 4):  # scraping first 3 pages (you can increase later)\n",
    "    print(f\"Scraping Page {page}...\")\n",
    "    url = f\"https://www.amazon.in/product-reviews/{product_id}/?pageNumber={page}\"\n",
    "    \n",
    "    response = requests.get(url, headers=headers)\n",
    "    soup = BeautifulSoup(response.content, 'html.parser')\n",
    "    \n",
    "    reviews = soup.find_all('div', {'data-hook': 'review'})\n",
    "    \n",
    "    for review in reviews:\n",
    "        # Fetch Customer Name\n",
    "        name_tag = review.find('span', {'class': 'a-profile-name'})\n",
    "        name = name_tag.text if name_tag else \"No Name\"\n",
    "\n",
    "        # Fetch Rating\n",
    "        rating_tag = review.find('i', {'data-hook': 'review-star-rating'})\n",
    "        rating = rating_tag.text if rating_tag else \"No Rating\"\n",
    "\n",
    "        # Fetch Review Title\n",
    "        title_tag = review.find('a', {'data-hook': 'review-title'})\n",
    "        title = title_tag.text.strip() if title_tag else \"No Title\"\n",
    "\n",
    "        # Fetch Review Body\n",
    "        body_tag = review.find('span', {'data-hook': 'review-body'})\n",
    "        body = body_tag.text.strip() if body_tag else \"No Body\"\n",
    "\n",
    "        # Save data\n",
    "        names.append(name)\n",
    "        ratings.append(rating)\n",
    "        titles.append(title)\n",
    "        bodies.append(body)\n",
    "    \n",
    "    # Be polite to Amazon servers\n",
    "    time.sleep(2)\n",
    "\n",
    "# 5. Save the data\n",
    "df = pd.DataFrame({\n",
    "    'Customer Name': names,\n",
    "    'Rating': ratings,\n",
    "    'Review Title': titles,\n",
    "    'Review Text': bodies\n",
    "})\n",
    "\n",
    "output_filename = f\"{product_id}_amazon_reviews.csv\"\n",
    "df.to_csv(output_filename, index=False)\n",
    "print(f\"✅ Scraping completed. File saved as {output_filename}\")\n"
   ]
  },
  {
   "cell_type": "code",
   "execution_count": null,
   "id": "072fcb7c",
   "metadata": {},
   "outputs": [],
   "source": []
  }
 ],
 "metadata": {
  "kernelspec": {
   "display_name": "Python 3 (ipykernel)",
   "language": "python",
   "name": "python3"
  },
  "language_info": {
   "codemirror_mode": {
    "name": "ipython",
    "version": 3
   },
   "file_extension": ".py",
   "mimetype": "text/x-python",
   "name": "python",
   "nbconvert_exporter": "python",
   "pygments_lexer": "ipython3",
   "version": "3.9.13"
  }
 },
 "nbformat": 4,
 "nbformat_minor": 5
}
